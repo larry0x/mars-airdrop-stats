{
 "cells": [
  {
   "cell_type": "code",
   "execution_count": 1,
   "id": "b900651a",
   "metadata": {},
   "outputs": [],
   "source": [
    "import json\n",
    "\n",
    "with open(\"./data/output.json\") as f:\n",
    "    data = json.load(f)"
   ]
  },
  {
   "cell_type": "code",
   "execution_count": 2,
   "id": "d7804a3f",
   "metadata": {},
   "outputs": [
    {
     "name": "stdout",
     "output_type": "stream",
     "text": [
      "Users who have received airdrop: 23896\n",
      "Users who have sent at least one tx: 3333\n",
      "Users who is staking a non-zero amount: 1648\n"
     ]
    }
   ],
   "source": [
    "from functools import reduce\n",
    "\n",
    "total = len(data)\n",
    "print(\"Users who have received airdrop:\", total)\n",
    "\n",
    "active = 0; [active := active + 1 for user in data if user[\"sequence\"] > 0]\n",
    "print(\"Users who have sent at least one tx:\", active)\n",
    "\n",
    "staking = 0; [staking := staking + 1 for user in data if user[\"staked_amount\"] > 0]\n",
    "print(\"Users who is staking a non-zero amount:\", staking)"
   ]
  },
  {
   "cell_type": "code",
   "execution_count": null,
   "id": "f557e8f7",
   "metadata": {},
   "outputs": [],
   "source": []
  },
  {
   "cell_type": "code",
   "execution_count": null,
   "id": "c6d48fab",
   "metadata": {},
   "outputs": [],
   "source": []
  }
 ],
 "metadata": {
  "kernelspec": {
   "display_name": "Python 3 (ipykernel)",
   "language": "python",
   "name": "python3"
  },
  "language_info": {
   "codemirror_mode": {
    "name": "ipython",
    "version": 3
   },
   "file_extension": ".py",
   "mimetype": "text/x-python",
   "name": "python",
   "nbconvert_exporter": "python",
   "pygments_lexer": "ipython3",
   "version": "3.10.10"
  }
 },
 "nbformat": 4,
 "nbformat_minor": 5
}
